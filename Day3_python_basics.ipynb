{
  "nbformat": 4,
  "nbformat_minor": 0,
  "metadata": {
    "colab": {
      "provenance": [],
      "authorship_tag": "ABX9TyNSXkycoXN3s8xEIJdyVfw+",
      "include_colab_link": true
    },
    "kernelspec": {
      "name": "python3",
      "display_name": "Python 3"
    },
    "language_info": {
      "name": "python"
    }
  },
  "cells": [
    {
      "cell_type": "markdown",
      "metadata": {
        "id": "view-in-github",
        "colab_type": "text"
      },
      "source": [
        "<a href=\"https://colab.research.google.com/github/Kruthi-trip/AI-ML-Course/blob/main/Day3_python_basics.ipynb\" target=\"_parent\"><img src=\"https://colab.research.google.com/assets/colab-badge.svg\" alt=\"Open In Colab\"/></a>"
      ]
    },
    {
      "cell_type": "markdown",
      "source": [
        "# Basics"
      ],
      "metadata": {
        "id": "mWpL509uPS2L"
      }
    },
    {
      "cell_type": "code",
      "source": [
        "#case sensitive\n",
        "name = 'Kruthi Tripuraneni'\n",
        "Name2 = 'Srikruthi Tripuraneni'\n",
        "print(name)\n",
        "print(Name2)\n",
        "print(Name2)\n",
        "print(name)"
      ],
      "metadata": {
        "colab": {
          "base_uri": "https://localhost:8080/"
        },
        "id": "tD8ScMTTG1Mk",
        "outputId": "55be1d4b-dca5-4c30-cf86-e92b42f4d095"
      },
      "execution_count": 1,
      "outputs": [
        {
          "output_type": "stream",
          "name": "stdout",
          "text": [
            "Kruthi Tripuraneni\n",
            "Srikruthi Tripuraneni\n",
            "Srikruthi Tripuraneni\n",
            "Kruthi Tripuraneni\n"
          ]
        }
      ]
    },
    {
      "cell_type": "code",
      "source": [
        "statement1 = 'I’m happy to share that I’ve obtained a new certification: \\\n",
        "Exploratory Data Analysis for Machine Learning from IBM!'\n",
        "print(statement1)"
      ],
      "metadata": {
        "colab": {
          "base_uri": "https://localhost:8080/"
        },
        "id": "sS6OKT6NLWc2",
        "outputId": "d60b2fd3-f136-49a2-de0e-1b0d32de3f82"
      },
      "execution_count": 2,
      "outputs": [
        {
          "output_type": "stream",
          "name": "stdout",
          "text": [
            "I’m happy to share that I’ve obtained a new certification: Exploratory Data Analysis for Machine Learning from IBM!\n"
          ]
        }
      ]
    },
    {
      "cell_type": "code",
      "source": [
        "# Indentation in python is used to define the structure and heirarchy of the code\n",
        "\n",
        "age = 32\n",
        "if age>30:\n",
        "  print(age)\n"
      ],
      "metadata": {
        "colab": {
          "base_uri": "https://localhost:8080/"
        },
        "id": "EInKWKO7L_K8",
        "outputId": "8f6173da-a701-42e1-a4c7-7664fa01c5a0"
      },
      "execution_count": 3,
      "outputs": [
        {
          "output_type": "stream",
          "name": "stdout",
          "text": [
            "32\n"
          ]
        }
      ]
    },
    {
      "cell_type": "code",
      "source": [
        "x=5; y = 10; z = x+y\n",
        "print(z)"
      ],
      "metadata": {
        "colab": {
          "base_uri": "https://localhost:8080/"
        },
        "id": "hGoneKd2NplS",
        "outputId": "838d20b9-1f21-4083-f799-65c1dd003f64"
      },
      "execution_count": 4,
      "outputs": [
        {
          "output_type": "stream",
          "name": "stdout",
          "text": [
            "15\n"
          ]
        }
      ]
    },
    {
      "cell_type": "code",
      "source": [
        "var1 = 10 # integer\n",
        "var2 = 'Kruthi Tripuraneni' # string\n",
        "var3 = 10.547 # float\n",
        "print(var1)\n",
        "print(type(var1))\n",
        "print(var2)\n",
        "print(type(var2))\n",
        "print(var3)\n",
        "print(type(var3))"
      ],
      "metadata": {
        "colab": {
          "base_uri": "https://localhost:8080/"
        },
        "id": "Kg_mA4IKNy2R",
        "outputId": "34e0fd6b-2e14-4252-a713-f202daa0c734"
      },
      "execution_count": 5,
      "outputs": [
        {
          "output_type": "stream",
          "name": "stdout",
          "text": [
            "10\n",
            "<class 'int'>\n",
            "Kruthi Tripuraneni\n",
            "<class 'str'>\n",
            "10.547\n",
            "<class 'float'>\n"
          ]
        }
      ]
    },
    {
      "cell_type": "code",
      "source": [
        "b = 5\n",
        "a = b\n",
        "print(a)"
      ],
      "metadata": {
        "colab": {
          "base_uri": "https://localhost:8080/"
        },
        "id": "v-4DrpE6OeI6",
        "outputId": "cddaa694-d06e-4dce-a356-56b4d2cd821b"
      },
      "execution_count": 6,
      "outputs": [
        {
          "output_type": "stream",
          "name": "stdout",
          "text": [
            "5\n"
          ]
        }
      ]
    },
    {
      "cell_type": "markdown",
      "source": [
        "#Variables"
      ],
      "metadata": {
        "id": "BHtzFl9DPAW0"
      }
    },
    {
      "cell_type": "code",
      "source": [
        "age = 27\n",
        "height = 5.3\n",
        "name = \"Kruthi\"\n",
        "is_student = True\n",
        "print(\"Age:\",age)\n",
        "print(\"Height:\",height)\n",
        "print(\"Name:\",name)"
      ],
      "metadata": {
        "colab": {
          "base_uri": "https://localhost:8080/"
        },
        "id": "qxxmwCEgO9uZ",
        "outputId": "e65cdca2-579c-44b5-b9dc-d5ca815b0d48"
      },
      "execution_count": 7,
      "outputs": [
        {
          "output_type": "stream",
          "name": "stdout",
          "text": [
            "Age: 27\n",
            "Height: 5.3\n",
            "Name: Kruthi\n"
          ]
        }
      ]
    },
    {
      "cell_type": "code",
      "source": [
        "fullName = \"Kruthi Tripuraneni\"\n",
        "full_name = \"Kruthi Tripuraneni\"\n",
        "FULLNAME = \"Kruthi Tripuraneni\"\n",
        "FullName = \"Kruthi Tripuraneni\""
      ],
      "metadata": {
        "id": "8y6YWoQ5P7uK"
      },
      "execution_count": 8,
      "outputs": []
    },
    {
      "cell_type": "code",
      "source": [
        "num1 = float(input('Enter a number'))\n",
        "num2 = float(input('Enter a number'))\n",
        "\n",
        "sum = num1 + num2\n",
        "diff = num1 - num2\n",
        "product = num1 * num2\n",
        "quotient = num1 / num2\n",
        "exponential = num1 ** num2\n",
        "\n",
        "print(\"Sum:\", sum)\n",
        "print(\"Difference:\", diff)\n",
        "print(\"Product:\", product)\n",
        "print(\"Quotient:\", quotient)\n",
        "print(\"Exponential:\", exponential )\n",
        "print(num1==num2)\n"
      ],
      "metadata": {
        "colab": {
          "base_uri": "https://localhost:8080/"
        },
        "id": "Fws339VmQsAX",
        "outputId": "67c76ed5-7abb-4e8e-def1-b7beb8189c5b"
      },
      "execution_count": 9,
      "outputs": [
        {
          "output_type": "stream",
          "name": "stdout",
          "text": [
            "Enter a number67\n",
            "Enter a number34\n",
            "Sum: 101.0\n",
            "Difference: 33.0\n",
            "Product: 2278.0\n",
            "Quotient: 1.9705882352941178\n",
            "Exponential: 1.2205154794691528e+62\n",
            "False\n"
          ]
        }
      ]
    },
    {
      "cell_type": "markdown",
      "source": [
        "# Datatypes\n",
        "\n",
        "1. Lists\n",
        "2. Tuples\n",
        "3. Dictionaries\n",
        "4. Sets"
      ],
      "metadata": {
        "id": "RJeoh2mZSzhm"
      }
    },
    {
      "cell_type": "markdown",
      "source": [
        "## List\n",
        "\n",
        "- It is a collection of **mutable**, **ordered** items.\n",
        "- **Mutable** items **can be edited** once they are created.\n",
        "eg. **lists, dictionaries, sets**\n",
        "\n",
        "- Immutable items are the ones that cannot be changed once created. eg. floats, strings, tuples, boolean"
      ],
      "metadata": {
        "id": "M1AV6qZ8VNxZ"
      }
    },
    {
      "cell_type": "code",
      "source": [
        "lst = []\n",
        "print(type(lst))"
      ],
      "metadata": {
        "colab": {
          "base_uri": "https://localhost:8080/"
        },
        "id": "xxwit_0xS3RG",
        "outputId": "b79e102c-5689-407e-8a4c-bc50e1210065"
      },
      "execution_count": 10,
      "outputs": [
        {
          "output_type": "stream",
          "name": "stdout",
          "text": [
            "<class 'list'>\n"
          ]
        }
      ]
    },
    {
      "cell_type": "code",
      "source": [
        "#mixed list\n",
        "names = ['Sravan', 'Usha', 'Kruthi', 'Abhi', 61, 69, 98, 00, True]\n",
        "# left to right ----> [0,1,2,3,4,5,6,7,8]\n",
        "# right to left ----> [-9,-8,-7,-6,-5,-4,-3,-2,-1]\n",
        "print(names)"
      ],
      "metadata": {
        "colab": {
          "base_uri": "https://localhost:8080/"
        },
        "id": "2qTUdrkVW0-Y",
        "outputId": "8de69929-7c43-4d61-f938-2be66edf0aa8"
      },
      "execution_count": 11,
      "outputs": [
        {
          "output_type": "stream",
          "name": "stdout",
          "text": [
            "['Sravan', 'Usha', 'Kruthi', 'Abhi', 61, 69, 98, 0, True]\n"
          ]
        }
      ]
    },
    {
      "cell_type": "markdown",
      "source": [
        "* Indexing\n"
      ],
      "metadata": {
        "id": "sijDSgJ3XIwS"
      }
    },
    {
      "cell_type": "code",
      "source": [
        "# Indexing starts from 0 position\n",
        "print(names[-6])\n",
        "print(names[3])"
      ],
      "metadata": {
        "colab": {
          "base_uri": "https://localhost:8080/"
        },
        "id": "HnoW6kH_XLcG",
        "outputId": "095879ea-7443-4934-8142-d276fd641372"
      },
      "execution_count": 12,
      "outputs": [
        {
          "output_type": "stream",
          "name": "stdout",
          "text": [
            "Abhi\n",
            "Abhi\n"
          ]
        }
      ]
    },
    {
      "cell_type": "code",
      "source": [
        "fruits = [\"apple\", \"banana\", \"cherry\", \"kiwi\", \"guava\", \"apple\", \"banana\", \"cherry\", \"kiwi\", \"guava\", \"apple\", \"banana\", \"cherry\", \"kiwi\", \"guava\"]\n",
        "print(fruits[2])\n",
        "print(fruits[-3])\n",
        "print(fruits[0:4])"
      ],
      "metadata": {
        "colab": {
          "base_uri": "https://localhost:8080/"
        },
        "id": "WIZTcFz6YW_o",
        "outputId": "19cec229-2f86-460e-94c6-098fbeee7e8b"
      },
      "execution_count": 13,
      "outputs": [
        {
          "output_type": "stream",
          "name": "stdout",
          "text": [
            "cherry\n",
            "cherry\n",
            "['apple', 'banana', 'cherry', 'kiwi']\n"
          ]
        }
      ]
    },
    {
      "cell_type": "code",
      "source": [
        "# Syntax - list[start : stop(excluded) : step]\n",
        "print(fruits[1:])\n",
        "print(fruits[1 : 7 : 4])"
      ],
      "metadata": {
        "colab": {
          "base_uri": "https://localhost:8080/"
        },
        "id": "J2s0oy3pYzaZ",
        "outputId": "2731107c-9006-40da-9233-8d5a14e37c8e"
      },
      "execution_count": 14,
      "outputs": [
        {
          "output_type": "stream",
          "name": "stdout",
          "text": [
            "['banana', 'cherry', 'kiwi', 'guava', 'apple', 'banana', 'cherry', 'kiwi', 'guava', 'apple', 'banana', 'cherry', 'kiwi', 'guava']\n",
            "['banana', 'apple']\n"
          ]
        }
      ]
    },
    {
      "cell_type": "code",
      "source": [
        "fruits"
      ],
      "metadata": {
        "colab": {
          "base_uri": "https://localhost:8080/"
        },
        "id": "zHL1hzVI3iZp",
        "outputId": "0444eac2-1223-4d6e-8d29-4d2d433f5a0b"
      },
      "execution_count": 15,
      "outputs": [
        {
          "output_type": "execute_result",
          "data": {
            "text/plain": [
              "['apple',\n",
              " 'banana',\n",
              " 'cherry',\n",
              " 'kiwi',\n",
              " 'guava',\n",
              " 'apple',\n",
              " 'banana',\n",
              " 'cherry',\n",
              " 'kiwi',\n",
              " 'guava',\n",
              " 'apple',\n",
              " 'banana',\n",
              " 'cherry',\n",
              " 'kiwi',\n",
              " 'guava']"
            ]
          },
          "metadata": {},
          "execution_count": 15
        }
      ]
    },
    {
      "cell_type": "code",
      "source": [
        "fruits[1] = 'papaya'\n",
        "print(fruits)"
      ],
      "metadata": {
        "colab": {
          "base_uri": "https://localhost:8080/"
        },
        "id": "AVq7d6vO5ZN2",
        "outputId": "9cf2c816-72fc-40aa-9b48-af6d2becf0d9"
      },
      "execution_count": 16,
      "outputs": [
        {
          "output_type": "stream",
          "name": "stdout",
          "text": [
            "['apple', 'papaya', 'cherry', 'kiwi', 'guava', 'apple', 'banana', 'cherry', 'kiwi', 'guava', 'apple', 'banana', 'cherry', 'kiwi', 'guava']\n"
          ]
        }
      ]
    },
    {
      "cell_type": "markdown",
      "source": [
        "# List Methods"
      ],
      "metadata": {
        "id": "EvUFwjfE7T41"
      }
    },
    {
      "cell_type": "code",
      "source": [
        "fruit = fruits = [\"apple\", \"banana\", \"cherry\", \"kiwi\", \"guava\", \"apple\", \"banana\", \"cherry\", \"kiwi\", \"guava\", \"apple\", \"banana\", \"cherry\", \"kiwi\", \"guava\"]\n",
        "fruit.append('watermelon') #add an item to the end\n",
        "print(fruit)"
      ],
      "metadata": {
        "colab": {
          "base_uri": "https://localhost:8080/"
        },
        "id": "Rc_HlHhW7QHv",
        "outputId": "86fa6b14-b2e9-4469-d73e-2a8239767622"
      },
      "execution_count": 17,
      "outputs": [
        {
          "output_type": "stream",
          "name": "stdout",
          "text": [
            "['apple', 'banana', 'cherry', 'kiwi', 'guava', 'apple', 'banana', 'cherry', 'kiwi', 'guava', 'apple', 'banana', 'cherry', 'kiwi', 'guava', 'watermelon']\n"
          ]
        }
      ]
    },
    {
      "cell_type": "code",
      "source": [
        "fruit[3] = 'papaya'\n",
        "print(fruit)\n",
        "fruit.insert(3, 'papaya') #add an item at a specific index\n",
        "print(fruit)"
      ],
      "metadata": {
        "colab": {
          "base_uri": "https://localhost:8080/"
        },
        "id": "vIG4fEhJ79Al",
        "outputId": "f857d93f-b1af-4547-d4d7-cfa49cded3d9"
      },
      "execution_count": 18,
      "outputs": [
        {
          "output_type": "stream",
          "name": "stdout",
          "text": [
            "['apple', 'banana', 'cherry', 'papaya', 'guava', 'apple', 'banana', 'cherry', 'kiwi', 'guava', 'apple', 'banana', 'cherry', 'kiwi', 'guava', 'watermelon']\n",
            "['apple', 'banana', 'cherry', 'papaya', 'papaya', 'guava', 'apple', 'banana', 'cherry', 'kiwi', 'guava', 'apple', 'banana', 'cherry', 'kiwi', 'guava', 'watermelon']\n"
          ]
        }
      ]
    },
    {
      "cell_type": "code",
      "source": [
        "fruit.remove('watermelon') # only removes the first occurance\n",
        "fruit"
      ],
      "metadata": {
        "colab": {
          "base_uri": "https://localhost:8080/"
        },
        "id": "yubICBGG8NBq",
        "outputId": "594b4052-5022-4a6f-f24d-3f443fbb84c1"
      },
      "execution_count": 19,
      "outputs": [
        {
          "output_type": "execute_result",
          "data": {
            "text/plain": [
              "['apple',\n",
              " 'banana',\n",
              " 'cherry',\n",
              " 'papaya',\n",
              " 'papaya',\n",
              " 'guava',\n",
              " 'apple',\n",
              " 'banana',\n",
              " 'cherry',\n",
              " 'kiwi',\n",
              " 'guava',\n",
              " 'apple',\n",
              " 'banana',\n",
              " 'cherry',\n",
              " 'kiwi',\n",
              " 'guava']"
            ]
          },
          "metadata": {},
          "execution_count": 19
        }
      ]
    },
    {
      "cell_type": "code",
      "source": [
        "print(fruit.index('papaya')) # prints the index position"
      ],
      "metadata": {
        "colab": {
          "base_uri": "https://localhost:8080/"
        },
        "id": "NO8uLBnqEGWN",
        "outputId": "a6c0f6ec-a554-4623-acb3-0caaa02ee6dc"
      },
      "execution_count": 20,
      "outputs": [
        {
          "output_type": "stream",
          "name": "stdout",
          "text": [
            "3\n"
          ]
        }
      ]
    },
    {
      "cell_type": "code",
      "source": [
        "fruits2 = fruit.pop() # removed and returned the last item\n",
        "print(fruits2)\n",
        "print(fruit)"
      ],
      "metadata": {
        "colab": {
          "base_uri": "https://localhost:8080/"
        },
        "id": "FOAxMxW_53Gj",
        "outputId": "6f2a0125-e7f0-4d59-d0a8-aa058360ebaf"
      },
      "execution_count": 21,
      "outputs": [
        {
          "output_type": "stream",
          "name": "stdout",
          "text": [
            "guava\n",
            "['apple', 'banana', 'cherry', 'papaya', 'papaya', 'guava', 'apple', 'banana', 'cherry', 'kiwi', 'guava', 'apple', 'banana', 'cherry', 'kiwi']\n"
          ]
        }
      ]
    },
    {
      "cell_type": "code",
      "source": [
        "print(fruit.index('banana')) # prints the index position of the item\n"
      ],
      "metadata": {
        "colab": {
          "base_uri": "https://localhost:8080/"
        },
        "id": "MJqeh2j-7MGH",
        "outputId": "defafb84-6e17-49c3-a330-195e71d866e6"
      },
      "execution_count": 22,
      "outputs": [
        {
          "output_type": "stream",
          "name": "stdout",
          "text": [
            "1\n"
          ]
        }
      ]
    },
    {
      "cell_type": "code",
      "source": [
        "fruit.insert(4, 'banana')\n",
        "print(fruit.count('banana'))\n",
        "print(fruit)"
      ],
      "metadata": {
        "colab": {
          "base_uri": "https://localhost:8080/"
        },
        "id": "wqwYhOQo7uqB",
        "outputId": "6c8599eb-ae14-4f05-e272-7167ed7be2f1"
      },
      "execution_count": 23,
      "outputs": [
        {
          "output_type": "stream",
          "name": "stdout",
          "text": [
            "4\n",
            "['apple', 'banana', 'cherry', 'papaya', 'banana', 'papaya', 'guava', 'apple', 'banana', 'cherry', 'kiwi', 'guava', 'apple', 'banana', 'cherry', 'kiwi']\n"
          ]
        }
      ]
    },
    {
      "cell_type": "code",
      "source": [
        "print(fruit.sort()) #ascending order list"
      ],
      "metadata": {
        "colab": {
          "base_uri": "https://localhost:8080/"
        },
        "id": "GN8wg5lw9dcp",
        "outputId": "54e1467c-a19c-4fb1-c37b-71fa2f0097db"
      },
      "execution_count": 24,
      "outputs": [
        {
          "output_type": "stream",
          "name": "stdout",
          "text": [
            "None\n"
          ]
        }
      ]
    },
    {
      "cell_type": "code",
      "source": [
        "print(fruit.reverse())\n",
        "print(fruit)"
      ],
      "metadata": {
        "colab": {
          "base_uri": "https://localhost:8080/"
        },
        "id": "smFcO6Bc90vI",
        "outputId": "506407a9-8233-407f-dec4-a033f54ec098"
      },
      "execution_count": 25,
      "outputs": [
        {
          "output_type": "stream",
          "name": "stdout",
          "text": [
            "None\n",
            "['papaya', 'papaya', 'kiwi', 'kiwi', 'guava', 'guava', 'cherry', 'cherry', 'cherry', 'banana', 'banana', 'banana', 'banana', 'apple', 'apple', 'apple']\n"
          ]
        }
      ]
    },
    {
      "cell_type": "code",
      "source": [
        "fruit.clear()\n",
        "print(fruit)"
      ],
      "metadata": {
        "colab": {
          "base_uri": "https://localhost:8080/"
        },
        "id": "RZst1gVy97Tg",
        "outputId": "71fd4793-4842-4534-c586-4464e1ff24e5"
      },
      "execution_count": 26,
      "outputs": [
        {
          "output_type": "stream",
          "name": "stdout",
          "text": [
            "[]\n"
          ]
        }
      ]
    },
    {
      "cell_type": "markdown",
      "source": [
        "# List Comprehension\n",
        "\n",
        "Create a list based on a logic, rule, or any linear syntax"
      ],
      "metadata": {
        "id": "CjXCLNWNXBMO"
      }
    },
    {
      "cell_type": "code",
      "source": [
        "# create a list of squares of numbers from 1 - 6\n",
        "lst = []\n",
        "for i in range(0,6):\n",
        "  lst.append(i**2)\n",
        "print(lst)\n"
      ],
      "metadata": {
        "id": "_m_ehz798jeQ",
        "colab": {
          "base_uri": "https://localhost:8080/"
        },
        "outputId": "cfda3bdf-7e32-41f8-933b-62ff82a4e578"
      },
      "execution_count": 28,
      "outputs": [
        {
          "output_type": "stream",
          "name": "stdout",
          "text": [
            "[0, 1, 4, 9, 16, 25]\n"
          ]
        }
      ]
    },
    {
      "cell_type": "code",
      "source": [
        "squares = [i**2 for i in range(6)]\n",
        "print(squares)"
      ],
      "metadata": {
        "colab": {
          "base_uri": "https://localhost:8080/"
        },
        "id": "lHs2jeawX87D",
        "outputId": "647fb9dd-3078-4539-af63-5b6788b8f529"
      },
      "execution_count": 29,
      "outputs": [
        {
          "output_type": "stream",
          "name": "stdout",
          "text": [
            "[0, 1, 4, 9, 16, 25]\n"
          ]
        }
      ]
    },
    {
      "cell_type": "code",
      "source": [
        "# print square roots list using list comprehension\n",
        "\n",
        "lst2 = []\n",
        "for i in range(0,6):\n",
        "  lst2.append(i**0.5)\n",
        "print(lst2)\n"
      ],
      "metadata": {
        "colab": {
          "base_uri": "https://localhost:8080/"
        },
        "id": "-6RHAsGOX8zj",
        "outputId": "5f10ac33-8f4d-41c6-95bc-6e00163de109"
      },
      "execution_count": 35,
      "outputs": [
        {
          "output_type": "stream",
          "name": "stdout",
          "text": [
            "[0.0, 1.0, 1.4142135623730951, 1.7320508075688772, 2.0, 2.23606797749979]\n"
          ]
        }
      ]
    },
    {
      "cell_type": "code",
      "source": [
        "import math\n",
        "\n",
        "print(math.sqrt(144))"
      ],
      "metadata": {
        "colab": {
          "base_uri": "https://localhost:8080/"
        },
        "id": "NttuYSu0X8qR",
        "outputId": "7805365d-c742-40c9-8088-226b10cddac3"
      },
      "execution_count": 36,
      "outputs": [
        {
          "output_type": "stream",
          "name": "stdout",
          "text": [
            "12.0\n"
          ]
        }
      ]
    },
    {
      "cell_type": "markdown",
      "source": [
        "# Nested Lists"
      ],
      "metadata": {
        "id": "OjwxkO3ZZ1Cp"
      }
    },
    {
      "cell_type": "code",
      "source": [
        "matrix = [[1,2,3],[4,5,6],[7,8,9]]\n",
        "print(matrix)"
      ],
      "metadata": {
        "colab": {
          "base_uri": "https://localhost:8080/"
        },
        "id": "dsw5iwH0X8if",
        "outputId": "f1e2ec2f-b20e-402b-8f54-5cc048e09f43"
      },
      "execution_count": 37,
      "outputs": [
        {
          "output_type": "stream",
          "name": "stdout",
          "text": [
            "[[1, 2, 3], [4, 5, 6], [7, 8, 9]]\n"
          ]
        }
      ]
    },
    {
      "cell_type": "code",
      "source": [
        "matrix[1][1] # double indexing"
      ],
      "metadata": {
        "colab": {
          "base_uri": "https://localhost:8080/"
        },
        "id": "nqSfAX9OX8ZQ",
        "outputId": "2acdbec7-5780-432f-dd0d-ec00a7e4e176"
      },
      "execution_count": 39,
      "outputs": [
        {
          "output_type": "execute_result",
          "data": {
            "text/plain": [
              "5"
            ]
          },
          "metadata": {},
          "execution_count": 39
        }
      ]
    },
    {
      "cell_type": "code",
      "source": [
        "multable = [[i*j for j in range (1,6)] for i in range (1,6)]\n",
        "print(multable)"
      ],
      "metadata": {
        "colab": {
          "base_uri": "https://localhost:8080/"
        },
        "id": "RhdS6f6EX8Sh",
        "outputId": "7e80d869-c6bd-4f2f-8a21-3a9f5969a521"
      },
      "execution_count": 42,
      "outputs": [
        {
          "output_type": "stream",
          "name": "stdout",
          "text": [
            "[[1, 2, 3, 4, 5], [2, 4, 6, 8, 10], [3, 6, 9, 12, 15], [4, 8, 12, 16, 20], [5, 10, 15, 20, 25]]\n"
          ]
        }
      ]
    },
    {
      "cell_type": "code",
      "source": [],
      "metadata": {
        "id": "bvd99DNgX8JQ"
      },
      "execution_count": 48,
      "outputs": []
    },
    {
      "cell_type": "code",
      "source": [],
      "metadata": {
        "id": "Gf-h0SALX8Ay"
      },
      "execution_count": 47,
      "outputs": []
    },
    {
      "cell_type": "code",
      "source": [],
      "metadata": {
        "id": "KDydw1peX73G"
      },
      "execution_count": null,
      "outputs": []
    },
    {
      "cell_type": "code",
      "source": [],
      "metadata": {
        "id": "hJOPUeCqX7wP"
      },
      "execution_count": null,
      "outputs": []
    },
    {
      "cell_type": "code",
      "source": [],
      "metadata": {
        "id": "AERaWDUmX7nz"
      },
      "execution_count": null,
      "outputs": []
    }
  ]
}